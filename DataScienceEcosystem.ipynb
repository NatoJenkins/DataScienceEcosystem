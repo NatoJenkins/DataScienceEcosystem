{
 "cells": [
  {
   "cell_type": "markdown",
   "id": "a6fdd681-efde-4b13-b975-6013de180d5b",
   "metadata": {},
   "source": [
    "# Data Science Tools and Ecosystem"
   ]
  },
  {
   "cell_type": "markdown",
   "id": "be260e52-92d1-4733-847d-2620ebba6517",
   "metadata": {},
   "source": [
    "In this notebook, Data Science Tools and Ecosystem are summarized."
   ]
  },
  {
   "cell_type": "markdown",
   "id": "e5780fca-d50d-4b52-97ea-79b64145ef46",
   "metadata": {},
   "source": [
    "Some of the popular languages that Data Scientists use are:\n",
    "1. Python\n",
    "2. R\n",
    "3. Julia\n",
    "4. SQL\n",
    "5. Java\n",
    "6. C/C++"
   ]
  },
  {
   "attachments": {},
   "cell_type": "markdown",
   "id": "ea29f9a3-7d40-44c5-9219-f1e4824dfe79",
   "metadata": {},
   "source": [
    "Some of the commonly used libraries used by Data Scientists include:\n",
    "1. PyTorch\n",
    "2. NumPy\n",
    "3. SciPy\n",
    "4. Pandas\n",
    "5. Matplotlib\n",
    "6. Tensorflow\n",
    "7. BeautifulSoup"
   ]
  },
  {
   "cell_type": "markdown",
   "id": "50cf3381-43aa-4e54-b2ac-f092d81edf3c",
   "metadata": {},
   "source": [
    "| Data Science Tools |\n",
    "| ------------------ |\n",
    "| R Studio           |\n",
    "| Hadoop             |\n",
    "| Apache Spark       |"
   ]
  },
  {
   "cell_type": "markdown",
   "id": "5945ff01-4c3a-4379-9ecf-04830208869c",
   "metadata": {},
   "source": [
    "### Below are a few examples of evaluating arithmetic expressions in Python."
   ]
  },
  {
   "cell_type": "code",
   "execution_count": 6,
   "id": "69466c11-f29e-4ae9-af73-51c985d92cf2",
   "metadata": {},
   "outputs": [
    {
     "name": "stdout",
     "output_type": "stream",
     "text": [
      "17\n"
     ]
    }
   ],
   "source": [
    "#This is a simple arithmetic expression to multiply then add integers.\n",
    "result = (3*4) + 5\n",
    "print(result)"
   ]
  },
  {
   "cell_type": "code",
   "execution_count": 7,
   "id": "5f4b81a3-c1cd-4ae9-9d73-fdd6dcabc70a",
   "metadata": {},
   "outputs": [
    {
     "name": "stdout",
     "output_type": "stream",
     "text": [
      "3.3333333333333335\n"
     ]
    }
   ],
   "source": [
    "#This will convert 200 minutes to hours by dviding by 60.\n",
    "time_conv_result = (200/60)\n",
    "print(time_conv_result)"
   ]
  },
  {
   "cell_type": "markdown",
   "id": "bf94191b-a6e2-450d-b414-747d4495e835",
   "metadata": {},
   "source": [
    "**Objectives**\n",
    "- Markdown cell formatting\n",
    "- Popular languages used in Data Science\n",
    "- Commonly used libraries used by Data Scientists\n",
    "- Useful open-source Data Science Tools\n",
    "- Simple Python arithmetic functions"
   ]
  },
  {
   "cell_type": "markdown",
   "id": "4fbe5d67-b968-48a0-b036-2a314193afad",
   "metadata": {},
   "source": [
    "## Author\n",
    "Silvestre Reyes"
   ]
  },
  {
   "cell_type": "code",
   "execution_count": null,
   "id": "f039508f-b493-4894-8288-ec23cb8b2a96",
   "metadata": {},
   "outputs": [],
   "source": []
  }
 ],
 "metadata": {
  "kernelspec": {
   "display_name": "Python 3 (ipykernel)",
   "language": "python",
   "name": "python3"
  },
  "language_info": {
   "codemirror_mode": {
    "name": "ipython",
    "version": 3
   },
   "file_extension": ".py",
   "mimetype": "text/x-python",
   "name": "python",
   "nbconvert_exporter": "python",
   "pygments_lexer": "ipython3",
   "version": "3.11.6"
  }
 },
 "nbformat": 4,
 "nbformat_minor": 5
}
